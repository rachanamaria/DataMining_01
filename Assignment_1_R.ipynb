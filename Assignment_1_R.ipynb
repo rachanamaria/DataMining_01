{
 "cells": [
  {
   "cell_type": "markdown",
   "id": "57b1b98b",
   "metadata": {},
   "source": [
    "# PA 1: Exploratory Analysis over Dataset_R"
   ]
  },
  {
   "cell_type": "markdown",
   "id": "dc0fa2bc",
   "metadata": {},
   "source": [
    "## Student Details\n",
    "\n",
    "Student Name and ID: \n",
    "\n",
    "Notes:\n",
    "When submitting, fill your name and ID in this cell. Note that this is a markdown cell!\n",
    "Do not make any changes in the dataset file and do not rename the 'dataset_python.csv'.\n",
    "Rename your submission file to <b> 'yourLastName_Last4digitsofyourID_PA1.ipynb' </b>.\n",
    "Do not to forget to cite any external sources used by you.\n",
    "<b>[2.5 points]</b>"
   ]
  },
  {
   "cell_type": "markdown",
   "id": "186c50f0",
   "metadata": {},
   "source": [
    " ## Assignment Details\n",
    "\n",
    "In this assignment, you will explore, manipulate and play with the data.\n",
    "\n",
    "You will prepare a report with the following outline for each one of the dataset. Look at the following Example.\n",
    "\n",
    "1.\tIntroduction\n",
    "\n",
    "2.\tRetrieving the Data\n",
    "\n",
    "3.\tGlimpse of Data\n",
    "\n",
    "4.\tCheck for missing data\n",
    "\n",
    "5.\tData Exploration\n",
    "\n",
    "6.  Include a paragraph describing the contribution made by each team member\n",
    "\n",
    "\n",
    "You will learn and use some of the most common exploration/aggregation/descriptive operations. This should also help you learn most of the key functionalities in Python, Weka and R. DO Task 1, Task 2, Task 3, Task 4 using Python, Weka, R.\n",
    " \n",
    "**Out of the 3 datasets listed below:**\n",
    "\n",
    "**1. Dataset_python should be solved using Python in Jupyter notebook only.**\n",
    "\n",
    "**2. Dataset_Weka using WEKA**\n",
    "\n",
    "**3. Dataset_R using R**\n",
    "\n",
    "\n",
    "You will also learn how to use visualization libraries to identify patterns in data that will help in your further data analysis. You will also explore most popular chart types and how to use different libraries and styles to make your visualizations more attractive."
   ]
  },
  {
   "cell_type": "markdown",
   "id": "7a239162",
   "metadata": {},
   "source": [
    "# Dataset Details\n",
    "\n",
    "In this assignment, you will work on dataset_R. The columns of the data-set are:\n",
    "\n",
    "- Loan Status - Loan approved (Y/N)\n",
    "- Loan_ID - Unique Loan ID\n",
    "- Gender - Male/ Female\n",
    "- Married - Applicant married (Y/N)\n",
    "- Dependents - Number of dependents\n",
    "- Education Applicant - Education (Graduate/ Under Graduate)\n",
    "- Self_Employed Self - employed (Y/N)\n",
    "- ApplicantIncome - Applicant income\n",
    "- CoapplicantIncome - Coapplicant income\n",
    "- LoanAmount - Loan amount in thousands\n",
    "- Loan_Amount_Term - Term of loan in months\n",
    "- Credit_History - credit history meets guidelines\n",
    "- Property_Area - Urban/ Semi Urban/ Rural)"
   ]
  },
  {
   "cell_type": "code",
   "execution_count": 1,
   "id": "61df63bf",
   "metadata": {},
   "outputs": [],
   "source": [
    "# Import R packages \n",
    "#Array processing\n",
    "library(reticulate)\n",
    "use_python(\"/Users/rachanaramireddy/opt/anaconda3/bin/python\", required = T)\n",
    "np <- import(\"numpy\")\n",
    "#Data analysis, wrangling and common exploratory operations\n",
    "pd <- import(\"pandas\")\n",
    "Series <- pd$Series\n",
    "DataFrame <- pd$DataFrame\n",
    "itertools <- import(\"itertools\")\n",
    "chain <- itertools$chain"
   ]
  },
  {
   "cell_type": "code",
   "execution_count": 2,
   "id": "47ee6142",
   "metadata": {},
   "outputs": [],
   "source": [
    "# Read the dataset_R CSV file \n",
    "df_data <- pd$read_csv('Dataset_R.csv', encoding='latin1')"
   ]
  },
  {
   "cell_type": "code",
   "execution_count": 3,
   "id": "b21115a1",
   "metadata": {},
   "outputs": [
    {
     "data": {
      "text/html": [
       "<table class=\"dataframe\">\n",
       "<caption>A data.frame: 10 × 13</caption>\n",
       "<thead>\n",
       "\t<tr><th></th><th scope=col>Loan_ID</th><th scope=col>Gender</th><th scope=col>Married</th><th scope=col>Dependents</th><th scope=col>Education</th><th scope=col>Self_Employed</th><th scope=col>ApplicantIncome</th><th scope=col>CoapplicantIncome</th><th scope=col>LoanAmount</th><th scope=col>Loan_Amount_Term</th><th scope=col>Credit_History</th><th scope=col>Property_Area</th><th scope=col>Loan_Status</th></tr>\n",
       "\t<tr><th></th><th scope=col>&lt;chr&gt;</th><th scope=col>&lt;list&gt;</th><th scope=col>&lt;list&gt;</th><th scope=col>&lt;list&gt;</th><th scope=col>&lt;chr&gt;</th><th scope=col>&lt;list&gt;</th><th scope=col>&lt;dbl&gt;</th><th scope=col>&lt;dbl&gt;</th><th scope=col>&lt;dbl&gt;</th><th scope=col>&lt;dbl&gt;</th><th scope=col>&lt;dbl&gt;</th><th scope=col>&lt;chr&gt;</th><th scope=col>&lt;chr&gt;</th></tr>\n",
       "</thead>\n",
       "<tbody>\n",
       "\t<tr><th scope=row>1</th><td>LP001002</td><td>Male</td><td>No</td><td>0</td><td>Graduate    </td><td>No</td><td> 5849</td><td>    0</td><td>NaN</td><td>360</td><td>1</td><td>Urban    </td><td>Y</td></tr>\n",
       "\t<tr><th scope=row>2</th><td>LP001003</td><td>Male</td><td>Yes</td><td>1</td><td>Graduate    </td><td>No</td><td> 4583</td><td> 1508</td><td>128</td><td>360</td><td>1</td><td>Rural    </td><td>N</td></tr>\n",
       "\t<tr><th scope=row>3</th><td>LP001005</td><td>Male</td><td>Yes</td><td>0</td><td>Graduate    </td><td>Yes</td><td> 3000</td><td>    0</td><td> 66</td><td>360</td><td>1</td><td>Urban    </td><td>Y</td></tr>\n",
       "\t<tr><th scope=row>4</th><td>LP001006</td><td>Male</td><td>Yes</td><td>0</td><td>Not Graduate</td><td>No</td><td> 2583</td><td> 2358</td><td>120</td><td>360</td><td>1</td><td>Urban    </td><td>Y</td></tr>\n",
       "\t<tr><th scope=row>5</th><td>LP001008</td><td>Male</td><td>No</td><td>0</td><td>Graduate    </td><td>No</td><td> 6000</td><td>    0</td><td>141</td><td>360</td><td>1</td><td>Urban    </td><td>Y</td></tr>\n",
       "\t<tr><th scope=row>6</th><td>LP001011</td><td>Male</td><td>Yes</td><td>2</td><td>Graduate    </td><td>Yes</td><td> 5417</td><td> 4196</td><td>267</td><td>360</td><td>1</td><td>Urban    </td><td>Y</td></tr>\n",
       "\t<tr><th scope=row>7</th><td>LP001013</td><td>Male</td><td>Yes</td><td>0</td><td>Not Graduate</td><td>No</td><td> 2333</td><td> 1516</td><td> 95</td><td>360</td><td>1</td><td>Urban    </td><td>Y</td></tr>\n",
       "\t<tr><th scope=row>8</th><td>LP001014</td><td>Male</td><td>Yes</td><td>3+</td><td>Graduate    </td><td>No</td><td> 3036</td><td> 2504</td><td>158</td><td>360</td><td>0</td><td>Semiurban</td><td>N</td></tr>\n",
       "\t<tr><th scope=row>9</th><td>LP001018</td><td>Male</td><td>Yes</td><td>2</td><td>Graduate    </td><td>No</td><td> 4006</td><td> 1526</td><td>168</td><td>360</td><td>1</td><td>Urban    </td><td>Y</td></tr>\n",
       "\t<tr><th scope=row>10</th><td>LP001020</td><td>Male</td><td>Yes</td><td>1</td><td>Graduate    </td><td>No</td><td>12841</td><td>10968</td><td>349</td><td>360</td><td>1</td><td>Semiurban</td><td>N</td></tr>\n",
       "</tbody>\n",
       "</table>\n"
      ],
      "text/latex": [
       "A data.frame: 10 × 13\n",
       "\\begin{tabular}{r|lllllllllllll}\n",
       "  & Loan\\_ID & Gender & Married & Dependents & Education & Self\\_Employed & ApplicantIncome & CoapplicantIncome & LoanAmount & Loan\\_Amount\\_Term & Credit\\_History & Property\\_Area & Loan\\_Status\\\\\n",
       "  & <chr> & <list> & <list> & <list> & <chr> & <list> & <dbl> & <dbl> & <dbl> & <dbl> & <dbl> & <chr> & <chr>\\\\\n",
       "\\hline\n",
       "\t1 & LP001002 & Male & No & 0 & Graduate     & No &  5849 &     0 & NaN & 360 & 1 & Urban     & Y\\\\\n",
       "\t2 & LP001003 & Male & Yes & 1 & Graduate     & No &  4583 &  1508 & 128 & 360 & 1 & Rural     & N\\\\\n",
       "\t3 & LP001005 & Male & Yes & 0 & Graduate     & Yes &  3000 &     0 &  66 & 360 & 1 & Urban     & Y\\\\\n",
       "\t4 & LP001006 & Male & Yes & 0 & Not Graduate & No &  2583 &  2358 & 120 & 360 & 1 & Urban     & Y\\\\\n",
       "\t5 & LP001008 & Male & No & 0 & Graduate     & No &  6000 &     0 & 141 & 360 & 1 & Urban     & Y\\\\\n",
       "\t6 & LP001011 & Male & Yes & 2 & Graduate     & Yes &  5417 &  4196 & 267 & 360 & 1 & Urban     & Y\\\\\n",
       "\t7 & LP001013 & Male & Yes & 0 & Not Graduate & No &  2333 &  1516 &  95 & 360 & 1 & Urban     & Y\\\\\n",
       "\t8 & LP001014 & Male & Yes & 3+ & Graduate     & No &  3036 &  2504 & 158 & 360 & 0 & Semiurban & N\\\\\n",
       "\t9 & LP001018 & Male & Yes & 2 & Graduate     & No &  4006 &  1526 & 168 & 360 & 1 & Urban     & Y\\\\\n",
       "\t10 & LP001020 & Male & Yes & 1 & Graduate     & No & 12841 & 10968 & 349 & 360 & 1 & Semiurban & N\\\\\n",
       "\\end{tabular}\n"
      ],
      "text/markdown": [
       "\n",
       "A data.frame: 10 × 13\n",
       "\n",
       "| <!--/--> | Loan_ID &lt;chr&gt; | Gender &lt;list&gt; | Married &lt;list&gt; | Dependents &lt;list&gt; | Education &lt;chr&gt; | Self_Employed &lt;list&gt; | ApplicantIncome &lt;dbl&gt; | CoapplicantIncome &lt;dbl&gt; | LoanAmount &lt;dbl&gt; | Loan_Amount_Term &lt;dbl&gt; | Credit_History &lt;dbl&gt; | Property_Area &lt;chr&gt; | Loan_Status &lt;chr&gt; |\n",
       "|---|---|---|---|---|---|---|---|---|---|---|---|---|---|\n",
       "| 1 | LP001002 | Male | No | 0 | Graduate     | No |  5849 |     0 | NaN | 360 | 1 | Urban     | Y |\n",
       "| 2 | LP001003 | Male | Yes | 1 | Graduate     | No |  4583 |  1508 | 128 | 360 | 1 | Rural     | N |\n",
       "| 3 | LP001005 | Male | Yes | 0 | Graduate     | Yes |  3000 |     0 |  66 | 360 | 1 | Urban     | Y |\n",
       "| 4 | LP001006 | Male | Yes | 0 | Not Graduate | No |  2583 |  2358 | 120 | 360 | 1 | Urban     | Y |\n",
       "| 5 | LP001008 | Male | No | 0 | Graduate     | No |  6000 |     0 | 141 | 360 | 1 | Urban     | Y |\n",
       "| 6 | LP001011 | Male | Yes | 2 | Graduate     | Yes |  5417 |  4196 | 267 | 360 | 1 | Urban     | Y |\n",
       "| 7 | LP001013 | Male | Yes | 0 | Not Graduate | No |  2333 |  1516 |  95 | 360 | 1 | Urban     | Y |\n",
       "| 8 | LP001014 | Male | Yes | 3+ | Graduate     | No |  3036 |  2504 | 158 | 360 | 0 | Semiurban | N |\n",
       "| 9 | LP001018 | Male | Yes | 2 | Graduate     | No |  4006 |  1526 | 168 | 360 | 1 | Urban     | Y |\n",
       "| 10 | LP001020 | Male | Yes | 1 | Graduate     | No | 12841 | 10968 | 349 | 360 | 1 | Semiurban | N |\n",
       "\n"
      ],
      "text/plain": [
       "   Loan_ID  Gender Married Dependents Education    Self_Employed\n",
       "1  LP001002 Male   No      0          Graduate     No           \n",
       "2  LP001003 Male   Yes     1          Graduate     No           \n",
       "3  LP001005 Male   Yes     0          Graduate     Yes          \n",
       "4  LP001006 Male   Yes     0          Not Graduate No           \n",
       "5  LP001008 Male   No      0          Graduate     No           \n",
       "6  LP001011 Male   Yes     2          Graduate     Yes          \n",
       "7  LP001013 Male   Yes     0          Not Graduate No           \n",
       "8  LP001014 Male   Yes     3+         Graduate     No           \n",
       "9  LP001018 Male   Yes     2          Graduate     No           \n",
       "10 LP001020 Male   Yes     1          Graduate     No           \n",
       "   ApplicantIncome CoapplicantIncome LoanAmount Loan_Amount_Term Credit_History\n",
       "1   5849               0             NaN        360              1             \n",
       "2   4583            1508             128        360              1             \n",
       "3   3000               0              66        360              1             \n",
       "4   2583            2358             120        360              1             \n",
       "5   6000               0             141        360              1             \n",
       "6   5417            4196             267        360              1             \n",
       "7   2333            1516              95        360              1             \n",
       "8   3036            2504             158        360              0             \n",
       "9   4006            1526             168        360              1             \n",
       "10 12841           10968             349        360              1             \n",
       "   Property_Area Loan_Status\n",
       "1  Urban         Y          \n",
       "2  Rural         N          \n",
       "3  Urban         Y          \n",
       "4  Urban         Y          \n",
       "5  Urban         Y          \n",
       "6  Urban         Y          \n",
       "7  Urban         Y          \n",
       "8  Semiurban     N          \n",
       "9  Urban         Y          \n",
       "10 Semiurban     N          "
      ]
     },
     "metadata": {},
     "output_type": "display_data"
    }
   ],
   "source": [
    "# return the first 10 rows of the dataset\n",
    "head(df_data,10)"
   ]
  },
  {
   "cell_type": "markdown",
   "id": "f7923d25",
   "metadata": {},
   "source": [
    "# Task 1: Statistical Exploratory Data Analysis(17.5 points)"
   ]
  },
  {
   "cell_type": "code",
   "execution_count": 4,
   "id": "35780b26",
   "metadata": {},
   "outputs": [
    {
     "name": "stdout",
     "output_type": "stream",
     "text": [
      "'data.frame':\t614 obs. of  13 variables:\n",
      " $ Loan_ID          : chr  \"LP001002\" \"LP001003\" \"LP001005\" \"LP001006\" ...\n",
      " $ Gender           :List of 614\n",
      "  ..$ : chr \"Male\"\n",
      "  ..$ : chr \"Male\"\n",
      "  ..$ : chr \"Male\"\n",
      "  ..$ : chr \"Male\"\n",
      "  ..$ : chr \"Male\"\n",
      "  ..$ : chr \"Male\"\n",
      "  ..$ : chr \"Male\"\n",
      "  ..$ : chr \"Male\"\n",
      "  ..$ : chr \"Male\"\n",
      "  ..$ : chr \"Male\"\n",
      "  ..$ : chr \"Male\"\n",
      "  ..$ : chr \"Male\"\n",
      "  ..$ : chr \"Male\"\n",
      "  ..$ : chr \"Male\"\n",
      "  ..$ : chr \"Male\"\n",
      "  ..$ : chr \"Male\"\n",
      "  ..$ : chr \"Male\"\n",
      "  ..$ : chr \"Female\"\n",
      "  ..$ : chr \"Male\"\n",
      "  ..$ : chr \"Male\"\n",
      "  ..$ : chr \"Male\"\n",
      "  ..$ : chr \"Male\"\n",
      "  ..$ : chr \"Male\"\n",
      "  ..$ : num NaN\n",
      "  ..$ : chr \"Male\"\n",
      "  ..$ : chr \"Male\"\n",
      "  ..$ : chr \"Male\"\n",
      "  ..$ : chr \"Male\"\n",
      "  ..$ : chr \"Male\"\n",
      "  ..$ : chr \"Female\"\n",
      "  ..$ : chr \"Male\"\n",
      "  ..$ : chr \"Male\"\n",
      "  ..$ : chr \"Male\"\n",
      "  ..$ : chr \"Male\"\n",
      "  ..$ : chr \"Male\"\n",
      "  ..$ : chr \"Male\"\n",
      "  ..$ : chr \"Male\"\n",
      "  ..$ : chr \"Female\"\n",
      "  ..$ : chr \"Male\"\n",
      "  ..$ : chr \"Male\"\n",
      "  ..$ : chr \"Male\"\n",
      "  ..$ : chr \"Male\"\n",
      "  ..$ : chr \"Male\"\n",
      "  ..$ : chr \"Male\"\n",
      "  ..$ : chr \"Male\"\n",
      "  ..$ : chr \"Female\"\n",
      "  ..$ : chr \"Male\"\n",
      "  ..$ : chr \"Male\"\n",
      "  ..$ : chr \"Female\"\n",
      "  ..$ : chr \"Female\"\n",
      "  ..$ : chr \"Female\"\n",
      "  ..$ : chr \"Female\"\n",
      "  ..$ : chr \"Female\"\n",
      "  ..$ : chr \"Male\"\n",
      "  ..$ : chr \"Female\"\n",
      "  ..$ : chr \"Male\"\n",
      "  ..$ : chr \"Male\"\n",
      "  ..$ : chr \"Male\"\n",
      "  ..$ : chr \"Male\"\n",
      "  ..$ : chr \"Male\"\n",
      "  ..$ : chr \"Male\"\n",
      "  ..$ : chr \"Male\"\n",
      "  ..$ : chr \"Male\"\n",
      "  ..$ : chr \"Male\"\n",
      "  ..$ : chr \"Female\"\n",
      "  ..$ : chr \"Male\"\n",
      "  ..$ : chr \"Male\"\n",
      "  ..$ : chr \"Male\"\n",
      "  ..$ : chr \"Male\"\n",
      "  ..$ : chr \"Female\"\n",
      "  ..$ : chr \"Male\"\n",
      "  ..$ : chr \"Male\"\n",
      "  ..$ : chr \"Male\"\n",
      "  ..$ : chr \"Male\"\n",
      "  ..$ : chr \"Male\"\n",
      "  ..$ : chr \"Male\"\n",
      "  ..$ : chr \"Male\"\n",
      "  ..$ : chr \"Male\"\n",
      "  ..$ : chr \"Male\"\n",
      "  ..$ : chr \"Male\"\n",
      "  ..$ : chr \"Female\"\n",
      "  ..$ : chr \"Male\"\n",
      "  ..$ : chr \"Female\"\n",
      "  ..$ : chr \"Male\"\n",
      "  ..$ : chr \"Male\"\n",
      "  ..$ : chr \"Male\"\n",
      "  ..$ : chr \"Male\"\n",
      "  ..$ : chr \"Male\"\n",
      "  ..$ : chr \"Male\"\n",
      "  ..$ : chr \"Male\"\n",
      "  ..$ : chr \"Male\"\n",
      "  ..$ : chr \"Male\"\n",
      "  ..$ : chr \"Male\"\n",
      "  ..$ : chr \"Male\"\n",
      "  ..$ : chr \"Male\"\n",
      "  ..$ : chr \"Male\"\n",
      "  ..$ : chr \"Female\"\n",
      "  ..$ : chr \"Male\"\n",
      "  ..$ : chr \"Male\"\n",
      "  .. [list output truncated]\n",
      " $ Married          :List of 614\n",
      "  ..$ : chr \"No\"\n",
      "  ..$ : chr \"Yes\"\n",
      "  ..$ : chr \"Yes\"\n",
      "  ..$ : chr \"Yes\"\n",
      "  ..$ : chr \"No\"\n",
      "  ..$ : chr \"Yes\"\n",
      "  ..$ : chr \"Yes\"\n",
      "  ..$ : chr \"Yes\"\n",
      "  ..$ : chr \"Yes\"\n",
      "  ..$ : chr \"Yes\"\n",
      "  ..$ : chr \"Yes\"\n",
      "  ..$ : chr \"Yes\"\n",
      "  ..$ : chr \"Yes\"\n",
      "  ..$ : chr \"No\"\n",
      "  ..$ : chr \"Yes\"\n",
      "  ..$ : chr \"No\"\n",
      "  ..$ : chr \"No\"\n",
      "  ..$ : chr \"No\"\n",
      "  ..$ : chr \"Yes\"\n",
      "  ..$ : chr \"Yes\"\n",
      "  ..$ : chr \"Yes\"\n",
      "  ..$ : chr \"Yes\"\n",
      "  ..$ : chr \"Yes\"\n",
      "  ..$ : chr \"Yes\"\n",
      "  ..$ : chr \"Yes\"\n",
      "  ..$ : chr \"Yes\"\n",
      "  ..$ : chr \"Yes\"\n",
      "  ..$ : chr \"Yes\"\n",
      "  ..$ : chr \"No\"\n",
      "  ..$ : chr \"No\"\n",
      "  ..$ : chr \"Yes\"\n",
      "  ..$ : chr \"No\"\n",
      "  ..$ : chr \"No\"\n",
      "  ..$ : chr \"Yes\"\n",
      "  ..$ : chr \"No\"\n",
      "  ..$ : chr \"Yes\"\n",
      "  ..$ : chr \"Yes\"\n",
      "  ..$ : chr \"Yes\"\n",
      "  ..$ : chr \"No\"\n",
      "  ..$ : chr \"No\"\n",
      "  ..$ : chr \"No\"\n",
      "  ..$ : chr \"No\"\n",
      "  ..$ : chr \"Yes\"\n",
      "  ..$ : chr \"Yes\"\n",
      "  ..$ : chr \"Yes\"\n",
      "  ..$ : chr \"No\"\n",
      "  ..$ : chr \"Yes\"\n",
      "  ..$ : chr \"Yes\"\n",
      "  ..$ : chr \"Yes\"\n",
      "  ..$ : chr \"No\"\n",
      "  ..$ : chr \"Yes\"\n",
      "  ..$ : chr \"No\"\n",
      "  ..$ : chr \"No\"\n",
      "  ..$ : chr \"Yes\"\n",
      "  ..$ : chr \"Yes\"\n",
      "  ..$ : chr \"Yes\"\n",
      "  ..$ : chr \"Yes\"\n",
      "  ..$ : chr \"Yes\"\n",
      "  ..$ : chr \"Yes\"\n",
      "  ..$ : chr \"Yes\"\n",
      "  ..$ : chr \"Yes\"\n",
      "  ..$ : chr \"Yes\"\n",
      "  ..$ : chr \"Yes\"\n",
      "  ..$ : chr \"Yes\"\n",
      "  ..$ : chr \"No\"\n",
      "  ..$ : chr \"Yes\"\n",
      "  ..$ : chr \"No\"\n",
      "  ..$ : chr \"Yes\"\n",
      "  ..$ : chr \"Yes\"\n",
      "  ..$ : chr \"No\"\n",
      "  ..$ : chr \"Yes\"\n",
      "  ..$ : chr \"Yes\"\n",
      "  ..$ : chr \"No\"\n",
      "  ..$ : chr \"Yes\"\n",
      "  ..$ : chr \"Yes\"\n",
      "  ..$ : chr \"No\"\n",
      "  ..$ : chr \"No\"\n",
      "  ..$ : chr \"Yes\"\n",
      "  ..$ : chr \"Yes\"\n",
      "  ..$ : chr \"Yes\"\n",
      "  ..$ : chr \"No\"\n",
      "  ..$ : chr \"Yes\"\n",
      "  ..$ : chr \"Yes\"\n",
      "  ..$ : chr \"Yes\"\n",
      "  ..$ : chr \"Yes\"\n",
      "  ..$ : chr \"No\"\n",
      "  ..$ : chr \"Yes\"\n",
      "  ..$ : chr \"Yes\"\n",
      "  ..$ : chr \"No\"\n",
      "  ..$ : chr \"Yes\"\n",
      "  ..$ : chr \"Yes\"\n",
      "  ..$ : chr \"Yes\"\n",
      "  ..$ : chr \"Yes\"\n",
      "  ..$ : chr \"No\"\n",
      "  ..$ : chr \"No\"\n",
      "  ..$ : chr \"No\"\n",
      "  ..$ : chr \"Yes\"\n",
      "  ..$ : chr \"Yes\"\n",
      "  ..$ : chr \"Yes\"\n",
      "  .. [list output truncated]\n",
      " $ Dependents       :List of 614\n",
      "  ..$ : chr \"0\"\n",
      "  ..$ : chr \"1\"\n",
      "  ..$ : chr \"0\"\n",
      "  ..$ : chr \"0\"\n",
      "  ..$ : chr \"0\"\n",
      "  ..$ : chr \"2\"\n",
      "  ..$ : chr \"0\"\n",
      "  ..$ : chr \"3+\"\n",
      "  ..$ : chr \"2\"\n",
      "  ..$ : chr \"1\"\n",
      "  ..$ : chr \"2\"\n",
      "  ..$ : chr \"2\"\n",
      "  ..$ : chr \"2\"\n",
      "  ..$ : chr \"0\"\n",
      "  ..$ : chr \"2\"\n",
      "  ..$ : chr \"0\"\n",
      "  ..$ : chr \"1\"\n",
      "  ..$ : chr \"0\"\n",
      "  ..$ : chr \"0\"\n",
      "  ..$ : chr \"0\"\n",
      "  ..$ : chr \"0\"\n",
      "  ..$ : chr \"1\"\n",
      "  ..$ : chr \"0\"\n",
      "  ..$ : chr \"2\"\n",
      "  ..$ : chr \"1\"\n",
      "  ..$ : chr \"0\"\n",
      "  ..$ : chr \"0\"\n",
      "  ..$ : chr \"2\"\n",
      "  ..$ : chr \"0\"\n",
      "  ..$ : chr \"2\"\n",
      "  ..$ : chr \"1\"\n",
      "  ..$ : chr \"0\"\n",
      "  ..$ : chr \"1\"\n",
      "  ..$ : chr \"0\"\n",
      "  ..$ : chr \"3+\"\n",
      "  ..$ : chr \"0\"\n",
      "  ..$ : chr \"0\"\n",
      "  ..$ : chr \"0\"\n",
      "  ..$ : chr \"0\"\n",
      "  ..$ : chr \"0\"\n",
      "  ..$ : chr \"0\"\n",
      "  ..$ : chr \"0\"\n",
      "  ..$ : chr \"0\"\n",
      "  ..$ : chr \"0\"\n",
      "  ..$ : chr \"0\"\n",
      "  ..$ : chr \"0\"\n",
      "  ..$ : chr \"1\"\n",
      "  ..$ : chr \"0\"\n",
      "  ..$ : chr \"0\"\n",
      "  ..$ : chr \"0\"\n",
      "  ..$ : chr \"0\"\n",
      "  ..$ : chr \"0\"\n",
      "  ..$ : chr \"0\"\n",
      "  ..$ : chr \"2\"\n",
      "  ..$ : chr \"1\"\n",
      "  ..$ : chr \"2\"\n",
      "  ..$ : chr \"0\"\n",
      "  ..$ : chr \"0\"\n",
      "  ..$ : chr \"1\"\n",
      "  ..$ : chr \"2\"\n",
      "  ..$ : chr \"0\"\n",
      "  ..$ : chr \"3+\"\n",
      "  ..$ : chr \"0\"\n",
      "  ..$ : chr \"1\"\n",
      "  ..$ : chr \"0\"\n",
      "  ..$ : chr \"0\"\n",
      "  ..$ : chr \"0\"\n",
      "  ..$ : chr \"1\"\n",
      "  ..$ : chr \"3+\"\n",
      "  ..$ : chr \"0\"\n",
      "  ..$ : chr \"0\"\n",
      "  ..$ : chr \"2\"\n",
      "  ..$ : chr \"0\"\n",
      "  ..$ : chr \"3+\"\n",
      "  ..$ : chr \"3+\"\n",
      "  ..$ : chr \"0\"\n",
      "  ..$ : chr \"0\"\n",
      "  ..$ : chr \"1\"\n",
      "  ..$ : chr \"3+\"\n",
      "  ..$ : chr \"3+\"\n",
      "  ..$ : chr \"0\"\n",
      "  ..$ : chr \"1\"\n",
      "  ..$ : chr \"2\"\n",
      "  ..$ : chr \"0\"\n",
      "  ..$ : chr \"1\"\n",
      "  ..$ : chr \"0\"\n",
      "  ..$ : chr \"2\"\n",
      "  ..$ : chr \"0\"\n",
      "  ..$ : chr \"0\"\n",
      "  ..$ : chr \"0\"\n",
      "  ..$ : chr \"0\"\n",
      "  ..$ : chr \"2\"\n",
      "  ..$ : chr \"2\"\n",
      "  ..$ : chr \"0\"\n",
      "  ..$ : chr \"0\"\n",
      "  ..$ : chr \"0\"\n",
      "  ..$ : chr \"0\"\n",
      "  ..$ : chr \"0\"\n",
      "  ..$ : chr \"0\"\n",
      "  .. [list output truncated]\n",
      " $ Education        : chr  \"Graduate\" \"Graduate\" \"Graduate\" \"Not Graduate\" ...\n",
      " $ Self_Employed    :List of 614\n",
      "  ..$ : chr \"No\"\n",
      "  ..$ : chr \"No\"\n",
      "  ..$ : chr \"Yes\"\n",
      "  ..$ : chr \"No\"\n",
      "  ..$ : chr \"No\"\n",
      "  ..$ : chr \"Yes\"\n",
      "  ..$ : chr \"No\"\n",
      "  ..$ : chr \"No\"\n",
      "  ..$ : chr \"No\"\n",
      "  ..$ : chr \"No\"\n",
      "  ..$ : chr \"No\"\n",
      "  ..$ : num NaN\n",
      "  ..$ : chr \"No\"\n",
      "  ..$ : chr \"No\"\n",
      "  ..$ : chr \"No\"\n",
      "  ..$ : chr \"No\"\n",
      "  ..$ : chr \"No\"\n",
      "  ..$ : chr \"No\"\n",
      "  ..$ : chr \"No\"\n",
      "  ..$ : num NaN\n",
      "  ..$ : chr \"No\"\n",
      "  ..$ : chr \"No\"\n",
      "  ..$ : chr \"No\"\n",
      "  ..$ : chr \"No\"\n",
      "  ..$ : num NaN\n",
      "  ..$ : chr \"Yes\"\n",
      "  ..$ : chr \"No\"\n",
      "  ..$ : chr \"No\"\n",
      "  ..$ : chr \"No\"\n",
      "  ..$ : num NaN\n",
      "  ..$ : num NaN\n",
      "  ..$ : chr \"No\"\n",
      "  ..$ : chr \"Yes\"\n",
      "  ..$ : chr \"No\"\n",
      "  ..$ : chr \"No\"\n",
      "  ..$ : chr \"No\"\n",
      "  ..$ : chr \"No\"\n",
      "  ..$ : chr \"No\"\n",
      "  ..$ : chr \"No\"\n",
      "  ..$ : chr \"No\"\n",
      "  ..$ : chr \"No\"\n",
      "  ..$ : chr \"No\"\n",
      "  ..$ : chr \"No\"\n",
      "  ..$ : chr \"No\"\n",
      "  ..$ : chr \"Yes\"\n",
      "  ..$ : chr \"No\"\n",
      "  ..$ : chr \"No\"\n",
      "  ..$ : chr \"No\"\n",
      "  ..$ : chr \"No\"\n",
      "  ..$ : chr \"No\"\n",
      "  ..$ : chr \"No\"\n",
      "  ..$ : chr \"No\"\n",
      "  ..$ : chr \"No\"\n",
      "  ..$ : chr \"No\"\n",
      "  ..$ : chr \"Yes\"\n",
      "  ..$ : chr \"No\"\n",
      "  ..$ : chr \"No\"\n",
      "  ..$ : chr \"No\"\n",
      "  ..$ : chr \"No\"\n",
      "  ..$ : chr \"No\"\n",
      "  ..$ : chr \"No\"\n",
      "  ..$ : chr \"No\"\n",
      "  ..$ : chr \"Yes\"\n",
      "  ..$ : chr \"No\"\n",
      "  ..$ : chr \"No\"\n",
      "  ..$ : chr \"No\"\n",
      "  ..$ : chr \"No\"\n",
      "  ..$ : chr \"No\"\n",
      "  ..$ : chr \"Yes\"\n",
      "  ..$ : chr \"No\"\n",
      "  ..$ : chr \"No\"\n",
      "  ..$ : chr \"Yes\"\n",
      "  ..$ : chr \"No\"\n",
      "  ..$ : chr \"No\"\n",
      "  ..$ : chr \"Yes\"\n",
      "  ..$ : chr \"No\"\n",
      "  ..$ : chr \"No\"\n",
      "  ..$ : chr \"Yes\"\n",
      "  ..$ : chr \"No\"\n",
      "  ..$ : chr \"Yes\"\n",
      "  ..$ : chr \"No\"\n",
      "  ..$ : chr \"Yes\"\n",
      "  ..$ : chr \"No\"\n",
      "  ..$ : chr \"No\"\n",
      "  ..$ : chr \"No\"\n",
      "  ..$ : chr \"No\"\n",
      "  ..$ : chr \"No\"\n",
      "  ..$ : chr \"No\"\n",
      "  ..$ : chr \"No\"\n",
      "  ..$ : chr \"No\"\n",
      "  ..$ : chr \"No\"\n",
      "  ..$ : chr \"No\"\n",
      "  ..$ : chr \"No\"\n",
      "  ..$ : chr \"No\"\n",
      "  ..$ : chr \"No\"\n",
      "  ..$ : num NaN\n",
      "  ..$ : chr \"No\"\n",
      "  ..$ : chr \"No\"\n",
      "  ..$ : chr \"No\"\n",
      "  .. [list output truncated]\n",
      " $ ApplicantIncome  : num  5849 4583 3000 2583 6000 ...\n",
      " $ CoapplicantIncome: num  0 1508 0 2358 0 ...\n",
      " $ LoanAmount       : num  NaN 128 66 120 141 267 95 158 168 349 ...\n",
      " $ Loan_Amount_Term : num  360 360 360 360 360 360 360 360 360 360 ...\n",
      " $ Credit_History   : num  1 1 1 1 1 1 1 0 1 1 ...\n",
      " $ Property_Area    : chr  \"Urban\" \"Rural\" \"Urban\" \"Urban\" ...\n",
      " $ Loan_Status      : chr  \"Y\" \"N\" \"Y\" \"Y\" ...\n",
      " - attr(*, \"pandas.index\")=RangeIndex(start=0, stop=614, step=1)\n",
      "No of rows in dataset 614\n",
      "No of columns in dataset 13\n"
     ]
    }
   ],
   "source": [
    "# 1-a Print the details of dataframe and find out the number of rows and columns in dataset\n",
    "str(df_data)\n",
    "cat(\"No of rows in dataset\", nrow(df_data))\n",
    "cat(\"\\n\")\n",
    "cat(\"No of columns in dataset\", ncol(df_data))\n",
    "cat(\"\\n\")\n"
   ]
  },
  {
   "cell_type": "code",
   "execution_count": 5,
   "id": "0832e182",
   "metadata": {},
   "outputs": [
    {
     "name": "stdout",
     "output_type": "stream",
     "text": [
      "ApplicantIncome:\n"
     ]
    },
    {
     "data": {
      "text/plain": [
       "   Min. 1st Qu.  Median    Mean 3rd Qu.    Max. \n",
       "    150    2878    3812    5403    5795   81000 "
      ]
     },
     "metadata": {},
     "output_type": "display_data"
    }
   ],
   "source": [
    "# 1-b Print descriptive detail of a column in dataset\n",
    "cat(\"ApplicantIncome:\\n\")\n",
    "summary(df_data$ApplicantIncome)"
   ]
  },
  {
   "cell_type": "code",
   "execution_count": 6,
   "id": "78ab546f",
   "metadata": {},
   "outputs": [
    {
     "data": {
      "text/html": [
       "<style>\n",
       ".dl-inline {width: auto; margin:0; padding: 0}\n",
       ".dl-inline>dt, .dl-inline>dd {float: none; width: auto; display: inline-block}\n",
       ".dl-inline>dt::after {content: \":\\0020\"; padding-right: .5ex}\n",
       ".dl-inline>dt:not(:first-of-type) {padding-left: .5ex}\n",
       "</style><dl class=dl-inline><dt>Loan_ID</dt><dd>0</dd><dt>Gender</dt><dd>13</dd><dt>Married</dt><dd>3</dd><dt>Dependents</dt><dd>15</dd><dt>Education</dt><dd>0</dd><dt>Self_Employed</dt><dd>32</dd><dt>ApplicantIncome</dt><dd>0</dd><dt>CoapplicantIncome</dt><dd>0</dd><dt>LoanAmount</dt><dd>22</dd><dt>Loan_Amount_Term</dt><dd>14</dd><dt>Credit_History</dt><dd>50</dd><dt>Property_Area</dt><dd>0</dd><dt>Loan_Status</dt><dd>0</dd></dl>\n"
      ],
      "text/latex": [
       "\\begin{description*}\n",
       "\\item[Loan\\textbackslash{}\\_ID] 0\n",
       "\\item[Gender] 13\n",
       "\\item[Married] 3\n",
       "\\item[Dependents] 15\n",
       "\\item[Education] 0\n",
       "\\item[Self\\textbackslash{}\\_Employed] 32\n",
       "\\item[ApplicantIncome] 0\n",
       "\\item[CoapplicantIncome] 0\n",
       "\\item[LoanAmount] 22\n",
       "\\item[Loan\\textbackslash{}\\_Amount\\textbackslash{}\\_Term] 14\n",
       "\\item[Credit\\textbackslash{}\\_History] 50\n",
       "\\item[Property\\textbackslash{}\\_Area] 0\n",
       "\\item[Loan\\textbackslash{}\\_Status] 0\n",
       "\\end{description*}\n"
      ],
      "text/markdown": [
       "Loan_ID\n",
       ":   0Gender\n",
       ":   13Married\n",
       ":   3Dependents\n",
       ":   15Education\n",
       ":   0Self_Employed\n",
       ":   32ApplicantIncome\n",
       ":   0CoapplicantIncome\n",
       ":   0LoanAmount\n",
       ":   22Loan_Amount_Term\n",
       ":   14Credit_History\n",
       ":   50Property_Area\n",
       ":   0Loan_Status\n",
       ":   0\n",
       "\n"
      ],
      "text/plain": [
       "          Loan_ID            Gender           Married        Dependents \n",
       "                0                13                 3                15 \n",
       "        Education     Self_Employed   ApplicantIncome CoapplicantIncome \n",
       "                0                32                 0                 0 \n",
       "       LoanAmount  Loan_Amount_Term    Credit_History     Property_Area \n",
       "               22                14                50                 0 \n",
       "      Loan_Status \n",
       "                0 "
      ]
     },
     "metadata": {},
     "output_type": "display_data"
    }
   ],
   "source": [
    "# 1-c Check for missing values for each column in dataset\n",
    "sapply(df_data, function(col) sum(is.na(col)))"
   ]
  },
  {
   "cell_type": "code",
   "execution_count": 14,
   "id": "f95aa4d9",
   "metadata": {},
   "outputs": [
    {
     "name": "stdout",
     "output_type": "stream",
     "text": [
      "No of rows in dataset after cleaning 480"
     ]
    },
    {
     "data": {
      "text/html": [
       "<style>\n",
       ".dl-inline {width: auto; margin:0; padding: 0}\n",
       ".dl-inline>dt, .dl-inline>dd {float: none; width: auto; display: inline-block}\n",
       ".dl-inline>dt::after {content: \":\\0020\"; padding-right: .5ex}\n",
       ".dl-inline>dt:not(:first-of-type) {padding-left: .5ex}\n",
       "</style><dl class=dl-inline><dt>Loan_ID</dt><dd>0</dd><dt>Gender</dt><dd>0</dd><dt>Married</dt><dd>0</dd><dt>Dependents</dt><dd>0</dd><dt>Education</dt><dd>0</dd><dt>Self_Employed</dt><dd>0</dd><dt>ApplicantIncome</dt><dd>0</dd><dt>CoapplicantIncome</dt><dd>0</dd><dt>LoanAmount</dt><dd>0</dd><dt>Loan_Amount_Term</dt><dd>0</dd><dt>Credit_History</dt><dd>0</dd><dt>Property_Area</dt><dd>0</dd><dt>Loan_Status</dt><dd>0</dd></dl>\n"
      ],
      "text/latex": [
       "\\begin{description*}\n",
       "\\item[Loan\\textbackslash{}\\_ID] 0\n",
       "\\item[Gender] 0\n",
       "\\item[Married] 0\n",
       "\\item[Dependents] 0\n",
       "\\item[Education] 0\n",
       "\\item[Self\\textbackslash{}\\_Employed] 0\n",
       "\\item[ApplicantIncome] 0\n",
       "\\item[CoapplicantIncome] 0\n",
       "\\item[LoanAmount] 0\n",
       "\\item[Loan\\textbackslash{}\\_Amount\\textbackslash{}\\_Term] 0\n",
       "\\item[Credit\\textbackslash{}\\_History] 0\n",
       "\\item[Property\\textbackslash{}\\_Area] 0\n",
       "\\item[Loan\\textbackslash{}\\_Status] 0\n",
       "\\end{description*}\n"
      ],
      "text/markdown": [
       "Loan_ID\n",
       ":   0Gender\n",
       ":   0Married\n",
       ":   0Dependents\n",
       ":   0Education\n",
       ":   0Self_Employed\n",
       ":   0ApplicantIncome\n",
       ":   0CoapplicantIncome\n",
       ":   0LoanAmount\n",
       ":   0Loan_Amount_Term\n",
       ":   0Credit_History\n",
       ":   0Property_Area\n",
       ":   0Loan_Status\n",
       ":   0\n",
       "\n"
      ],
      "text/plain": [
       "          Loan_ID            Gender           Married        Dependents \n",
       "                0                 0                 0                 0 \n",
       "        Education     Self_Employed   ApplicantIncome CoapplicantIncome \n",
       "                0                 0                 0                 0 \n",
       "       LoanAmount  Loan_Amount_Term    Credit_History     Property_Area \n",
       "                0                 0                 0                 0 \n",
       "      Loan_Status \n",
       "                0 "
      ]
     },
     "metadata": {},
     "output_type": "display_data"
    },
    {
     "name": "stdout",
     "output_type": "stream",
     "text": [
      "\n"
     ]
    }
   ],
   "source": [
    "# 1-d Data Pre-processing for R\n",
    "# - handle null values, categorical data, missing data..etc.\n",
    "#library(tidyr)\n",
    "#df <- as.data.frame(lapply(df_data, unlist))\n",
    "#any(is.na(df))\n",
    "#df <- df[complete.cases(df),]\n",
    "#df_complete <-  replace_na(df, list(Dependents = 0, LoanAmount = 0, Loan_Amount_Term=0,Credit_History=0))\n",
    "df_data <- as.data.frame(lapply(df_data, unlist))\n",
    "df_data[df_data == 'NaN'] <- NA\n",
    "df <- df_data[complete.cases(df_data),]\n",
    "cat(\"No of rows in dataset after cleaning\", nrow(df))\n",
    "sapply(df, function(col) sum(is.na(col)))\n",
    "cat(\"\\n\")"
   ]
  },
  {
   "cell_type": "markdown",
   "id": "7e386d61",
   "metadata": {},
   "source": [
    "# Task 2: Aggregation & Filtering & Rank (30 points)"
   ]
  },
  {
   "cell_type": "code",
   "execution_count": 16,
   "id": "eb19feff",
   "metadata": {},
   "outputs": [
    {
     "name": "stdout",
     "output_type": "stream",
     "text": [
      "the number of female graduates from Semiurban area: \n"
     ]
    },
    {
     "data": {
      "text/html": [
       "44"
      ],
      "text/latex": [
       "44"
      ],
      "text/markdown": [
       "44"
      ],
      "text/plain": [
       "[1] 44"
      ]
     },
     "metadata": {},
     "output_type": "display_data"
    }
   ],
   "source": [
    "# Task 2-a: Find out the number of female graduates from Semiurban area\n",
    "cat(\"the number of female graduates from Semiurban area: \\n\")\n",
    "nrow(subset(df, Gender == \"Female\" & Property_Area == \"Semiurban\"))"
   ]
  },
  {
   "cell_type": "code",
   "execution_count": 17,
   "id": "4488bf58",
   "metadata": {},
   "outputs": [
    {
     "name": "stdout",
     "output_type": "stream",
     "text": [
      "the overall number of men with more than 3 Dependents, who did not graduate with Self employment: \n"
     ]
    },
    {
     "data": {
      "text/html": [
       "2"
      ],
      "text/latex": [
       "2"
      ],
      "text/markdown": [
       "2"
      ],
      "text/plain": [
       "[1] 2"
      ]
     },
     "metadata": {},
     "output_type": "display_data"
    }
   ],
   "source": [
    "# Task 2-b: Determine the overall number of men with more than 3 Dependents, who did not graduate with Self employment\n",
    "cat(\"the overall number of men with more than 3 Dependents, who did not graduate with Self employment: \\n\")\n",
    "nrow(subset(df, Gender == \"Male\" & Education == \"Not Graduate\" & Dependents == \"3+\" & Self_Employed == \"Yes\"))"
   ]
  },
  {
   "cell_type": "code",
   "execution_count": 18,
   "id": "cb6ce750",
   "metadata": {},
   "outputs": [
    {
     "data": {
      "text/html": [
       "<table class=\"dataframe\">\n",
       "<caption>A data.frame: 5 × 13</caption>\n",
       "<thead>\n",
       "\t<tr><th></th><th scope=col>Loan_ID</th><th scope=col>Gender</th><th scope=col>Married</th><th scope=col>Dependents</th><th scope=col>Education</th><th scope=col>Self_Employed</th><th scope=col>ApplicantIncome</th><th scope=col>CoapplicantIncome</th><th scope=col>LoanAmount</th><th scope=col>Loan_Amount_Term</th><th scope=col>Credit_History</th><th scope=col>Property_Area</th><th scope=col>Loan_Status</th></tr>\n",
       "\t<tr><th></th><th scope=col>&lt;chr&gt;</th><th scope=col>&lt;chr&gt;</th><th scope=col>&lt;chr&gt;</th><th scope=col>&lt;chr&gt;</th><th scope=col>&lt;chr&gt;</th><th scope=col>&lt;chr&gt;</th><th scope=col>&lt;dbl&gt;</th><th scope=col>&lt;dbl&gt;</th><th scope=col>&lt;dbl&gt;</th><th scope=col>&lt;dbl&gt;</th><th scope=col>&lt;dbl&gt;</th><th scope=col>&lt;chr&gt;</th><th scope=col>&lt;chr&gt;</th></tr>\n",
       "</thead>\n",
       "<tbody>\n",
       "\t<tr><th scope=row>317</th><td>LP002194</td><td>Female</td><td>No</td><td>0</td><td>Graduate</td><td>Yes</td><td>15759</td><td>   0</td><td> 55</td><td>360</td><td>1</td><td>Semiurban</td><td>Y</td></tr>\n",
       "\t<tr><th scope=row>370</th><td>LP002377</td><td>Female</td><td>No</td><td>1</td><td>Graduate</td><td>Yes</td><td> 8624</td><td>   0</td><td>150</td><td>360</td><td>1</td><td>Semiurban</td><td>Y</td></tr>\n",
       "\t<tr><th scope=row>347</th><td>LP002301</td><td>Female</td><td>No</td><td>0</td><td>Graduate</td><td>Yes</td><td> 7441</td><td>   0</td><td>194</td><td>360</td><td>1</td><td>Rural    </td><td>N</td></tr>\n",
       "\t<tr><th scope=row>529</th><td>LP002990</td><td>Female</td><td>No</td><td>0</td><td>Graduate</td><td>Yes</td><td> 4583</td><td>   0</td><td>133</td><td>360</td><td>0</td><td>Semiurban</td><td>N</td></tr>\n",
       "\t<tr><th scope=row>245</th><td>LP001925</td><td>Female</td><td>No</td><td>0</td><td>Graduate</td><td>Yes</td><td> 2600</td><td>1717</td><td> 99</td><td>300</td><td>1</td><td>Semiurban</td><td>N</td></tr>\n",
       "</tbody>\n",
       "</table>\n"
      ],
      "text/latex": [
       "A data.frame: 5 × 13\n",
       "\\begin{tabular}{r|lllllllllllll}\n",
       "  & Loan\\_ID & Gender & Married & Dependents & Education & Self\\_Employed & ApplicantIncome & CoapplicantIncome & LoanAmount & Loan\\_Amount\\_Term & Credit\\_History & Property\\_Area & Loan\\_Status\\\\\n",
       "  & <chr> & <chr> & <chr> & <chr> & <chr> & <chr> & <dbl> & <dbl> & <dbl> & <dbl> & <dbl> & <chr> & <chr>\\\\\n",
       "\\hline\n",
       "\t317 & LP002194 & Female & No & 0 & Graduate & Yes & 15759 &    0 &  55 & 360 & 1 & Semiurban & Y\\\\\n",
       "\t370 & LP002377 & Female & No & 1 & Graduate & Yes &  8624 &    0 & 150 & 360 & 1 & Semiurban & Y\\\\\n",
       "\t347 & LP002301 & Female & No & 0 & Graduate & Yes &  7441 &    0 & 194 & 360 & 1 & Rural     & N\\\\\n",
       "\t529 & LP002990 & Female & No & 0 & Graduate & Yes &  4583 &    0 & 133 & 360 & 0 & Semiurban & N\\\\\n",
       "\t245 & LP001925 & Female & No & 0 & Graduate & Yes &  2600 & 1717 &  99 & 300 & 1 & Semiurban & N\\\\\n",
       "\\end{tabular}\n"
      ],
      "text/markdown": [
       "\n",
       "A data.frame: 5 × 13\n",
       "\n",
       "| <!--/--> | Loan_ID &lt;chr&gt; | Gender &lt;chr&gt; | Married &lt;chr&gt; | Dependents &lt;chr&gt; | Education &lt;chr&gt; | Self_Employed &lt;chr&gt; | ApplicantIncome &lt;dbl&gt; | CoapplicantIncome &lt;dbl&gt; | LoanAmount &lt;dbl&gt; | Loan_Amount_Term &lt;dbl&gt; | Credit_History &lt;dbl&gt; | Property_Area &lt;chr&gt; | Loan_Status &lt;chr&gt; |\n",
       "|---|---|---|---|---|---|---|---|---|---|---|---|---|---|\n",
       "| 317 | LP002194 | Female | No | 0 | Graduate | Yes | 15759 |    0 |  55 | 360 | 1 | Semiurban | Y |\n",
       "| 370 | LP002377 | Female | No | 1 | Graduate | Yes |  8624 |    0 | 150 | 360 | 1 | Semiurban | Y |\n",
       "| 347 | LP002301 | Female | No | 0 | Graduate | Yes |  7441 |    0 | 194 | 360 | 1 | Rural     | N |\n",
       "| 529 | LP002990 | Female | No | 0 | Graduate | Yes |  4583 |    0 | 133 | 360 | 0 | Semiurban | N |\n",
       "| 245 | LP001925 | Female | No | 0 | Graduate | Yes |  2600 | 1717 |  99 | 300 | 1 | Semiurban | N |\n",
       "\n"
      ],
      "text/plain": [
       "    Loan_ID  Gender Married Dependents Education Self_Employed ApplicantIncome\n",
       "317 LP002194 Female No      0          Graduate  Yes           15759          \n",
       "370 LP002377 Female No      1          Graduate  Yes            8624          \n",
       "347 LP002301 Female No      0          Graduate  Yes            7441          \n",
       "529 LP002990 Female No      0          Graduate  Yes            4583          \n",
       "245 LP001925 Female No      0          Graduate  Yes            2600          \n",
       "    CoapplicantIncome LoanAmount Loan_Amount_Term Credit_History Property_Area\n",
       "317    0               55        360              1              Semiurban    \n",
       "370    0              150        360              1              Semiurban    \n",
       "347    0              194        360              1              Rural        \n",
       "529    0              133        360              0              Semiurban    \n",
       "245 1717               99        300              1              Semiurban    \n",
       "    Loan_Status\n",
       "317 Y          \n",
       "370 Y          \n",
       "347 N          \n",
       "529 N          \n",
       "245 N          "
      ]
     },
     "metadata": {},
     "output_type": "display_data"
    }
   ],
   "source": [
    "# Task 2-c: Find the top 10 non-married female applicants who graduated with self employment and had the highest applicant income\n",
    "data <- subset(df, Gender == \"Female\" & Married == \"No\" & Education == \"Graduate\" & Self_Employed == \"Yes\")\n",
    "head(data[order(data$ApplicantIncome, decreasing = TRUE), ], 10)"
   ]
  },
  {
   "cell_type": "code",
   "execution_count": 19,
   "id": "88d8e9ab",
   "metadata": {},
   "outputs": [
    {
     "name": "stdout",
     "output_type": "stream",
     "text": [
      "the number of self-employed male applicants from urban area with exactly two dependents: \n"
     ]
    },
    {
     "data": {
      "text/html": [
       "3"
      ],
      "text/latex": [
       "3"
      ],
      "text/markdown": [
       "3"
      ],
      "text/plain": [
       "[1] 3"
      ]
     },
     "metadata": {},
     "output_type": "display_data"
    }
   ],
   "source": [
    "# Task 2-d: Find the number of self-employed male applicants from urban area with exactly two dependents \n",
    "cat(\"the number of self-employed male applicants from urban area with exactly two dependents: \\n\")\n",
    "nrow(subset(df, Gender == \"Male\" & Property_Area == \"Urban\" & Dependents == \"2\" & Self_Employed == \"Yes\"))"
   ]
  },
  {
   "cell_type": "markdown",
   "id": "1bcd55ea",
   "metadata": {},
   "source": [
    "# Task 3: Visualization (30 points)"
   ]
  },
  {
   "cell_type": "code",
   "execution_count": 21,
   "id": "f084bde3",
   "metadata": {},
   "outputs": [
    {
     "data": {
      "image/png": "[encoded data removed]",
      "text/plain": [
       "plot without title"
      ]
     },
     "metadata": {
      "image/png": {
       "height": 420,
       "width": 420
      }
     },
     "output_type": "display_data"
    }
   ],
   "source": [
    "# Task 3-a Display a plot where educated applicants are granted loans\n",
    "bar<-subset(df, Education == \"Graduate\" & Loan_Status == \"Y\")\n",
    "library(ggplot2)\n",
    "ggplot(bar, aes(x = Education, fill = Loan_Status)) + \n",
    "  geom_bar(position = \"dodge\") +\n",
    "  labs(x = \"Education\", y = \"Loan Approval\", fill = \"Loan Approved\") +\n",
    "  ggtitle(\"Loan Approval by Education\")"
   ]
  },
  {
   "cell_type": "code",
   "execution_count": 24,
   "id": "7b66de38",
   "metadata": {},
   "outputs": [
    {
     "data": {
      "image/png": "[encoded data removed]",
      "text/plain": [
       "Plot with title “Property Area”"
      ]
     },
     "metadata": {
      "image/png": {
       "height": 420,
       "width": 420
      }
     },
     "output_type": "display_data"
    }
   ],
   "source": [
    "# Task 3-b Create a pie chart for Property_area and display percentages in legend respectively\n",
    "library(ggplot2)\n",
    "prop_area <- round(prop.table(table(df$Property_Area)) * 100, 2)\n",
    "\n",
    "colors <- c(\"#990099\", \"#9900CC\", \"#9900FF\")\n",
    "pie(prop_area, main = \"Property Area\", col = colors)\n",
    "\n",
    "legend(\"topleft\", fill = colors, \n",
    "       cex = 0.9,title = \"Property Area\", \n",
    "       legend = paste0(unique(df$Property_Area),\":\",c(prop_area), \"%\"))"
   ]
  },
  {
   "cell_type": "markdown",
   "id": "1e8f4db0",
   "metadata": {},
   "source": [
    "# Task 4: Insights from the data (20 points)\n",
    "Find out 'interesting' information from the dataset. Give two insights and Create a visualization for each of the insights. Explain in a few lines your reasoning. \n",
    "\n",
    "Your work's uniqueness and quality will be taken into account when evaluating your work (having a meaningful result and an aesthetic visualization). "
   ]
  },
  {
   "cell_type": "code",
   "execution_count": 33,
   "id": "9fc2b9b5",
   "metadata": {},
   "outputs": [
    {
     "name": "stdout",
     "output_type": "stream",
     "text": [
      "The data to include only self-employed applicants from urban areas based on gender\n"
     ]
    },
    {
     "data": {
      "text/html": [
       "43"
      ],
      "text/latex": [
       "43"
      ],
      "text/markdown": [
       "43"
      ],
      "text/plain": [
       "[1] 43"
      ]
     },
     "metadata": {},
     "output_type": "display_data"
    },
    {
     "ename": "ERROR",
     "evalue": "Error in .subset2(x, i, exact = exact): attempt to select less than one element in integerOneIndex\n",
     "output_type": "error",
     "traceback": [
      "Error in .subset2(x, i, exact = exact): attempt to select less than one element in integerOneIndex\nTraceback:\n",
      "1. boxplot(plot$Gender ~ plot$Gender, xlab = \"Gender\", ylab = \"Applicants\", \n .     main = \"Self-employed Urban Applicants with Two Dependents by Gender\", \n .     col = \"lightblue\", border = \"black\", ylim = c(0, max(plot$Gender)), \n .     legend = c(\"Female\", \"Male\"), bty = \"n\")",
      "2. boxplot.formula(plot$Gender ~ plot$Gender, xlab = \"Gender\", ylab = \"Applicants\", \n .     main = \"Self-employed Urban Applicants with Two Dependents by Gender\", \n .     col = \"lightblue\", border = \"black\", ylim = c(0, max(plot$Gender)), \n .     legend = c(\"Female\", \"Male\"), bty = \"n\")",
      "3. boxplot(split(mf[[response]], mf[-response], drop = drop, sep = sep, \n .     lex.order = lex.order), xlab = xlab, ylab = ylab, add = add, \n .     ann = ann, horizontal = horizontal, ...)",
      "4. split(mf[[response]], mf[-response], drop = drop, sep = sep, \n .     lex.order = lex.order)",
      "5. split.default(mf[[response]], mf[-response], drop = drop, sep = sep, \n .     lex.order = lex.order)",
      "6. interaction(f, drop = drop, sep = sep, lex.order = lex.order)",
      "7. as.factor(args[[i]])",
      "8. is.factor(x)",
      "9. args[[i]]",
      "10. `[[.data.frame`(args, i)",
      "11. (function(x, i, exact) if (is.matrix(i)) as.matrix(x)[[i]] else .subset2(x, \n  .     i, exact = exact))(x, ..., exact = exact)"
     ]
    }
   ],
   "source": [
    "# Code and explaination for Task4\n",
    "cat(\"The data to include only self-employed applicants from urban areas based on gender\\n\")\n",
    "plot <- subset(df, Property_Area != \"Rural\" & Self_Employed == \"Yes\")\n",
    "nrow(plot)\n",
    "# Create a box plot\n",
    "boxplot(plot$Gender ~ plot$Gender, \n",
    "       xlab = \"Gender\", ylab = \"Applicants\", \n",
    "        main = \"Self-employed Urban Applicants with Two Dependents by Gender\", col = \"lightblue\",\n",
    "        border = \"black\", ylim = c(0, max(plot$Gender)), \n",
    "        legend = c(\"Female\", \"Male\"), bty = \"n\")"
   ]
  },
  {
   "cell_type": "markdown",
   "id": "56f3c19a",
   "metadata": {},
   "source": [
    "References:https://www.datasciencemadesimple.com/descriptive-or-summary-statistics-in-r-2/#:~:text=Descriptive%20Statistics%20of%20the%20dataframe%20in%20R%20can,column%20Descriptive%20statistics%20with%20summary%20function%20in%20R"
   ]
  },
  {
   "cell_type": "markdown",
   "id": "91a7f3a1",
   "metadata": {},
   "source": [
    "Contribution:"
   ]
  }
 ],
 "metadata": {
  "kernelspec": {
   "display_name": "R",
   "language": "R",
   "name": "ir"
  },
  "language_info": {
   "codemirror_mode": "r",
   "file_extension": ".r",
   "mimetype": "text/x-r-source",
   "name": "R",
   "pygments_lexer": "r",
   "version": "4.2.2"
  },
  "vscode": {
   "interpreter": {
    "hash": "dbf7da27c4223095f591f04de42b6c01e5def2e4053c3e17ff923e1b75db67c7"
   }
  }
 },
 "nbformat": 4,
 "nbformat_minor": 5
}
